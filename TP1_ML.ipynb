{
  "nbformat": 4,
  "nbformat_minor": 0,
  "metadata": {
    "colab": {
      "provenance": [],
      "authorship_tag": "ABX9TyPflwQJ6e4qa+Ve9aC8TjuW",
      "include_colab_link": true
    },
    "kernelspec": {
      "name": "python3",
      "display_name": "Python 3"
    },
    "language_info": {
      "name": "python"
    }
  },
  "cells": [
    {
      "cell_type": "markdown",
      "metadata": {
        "id": "view-in-github",
        "colab_type": "text"
      },
      "source": [
        "<a href=\"https://colab.research.google.com/github/JineneOuali/worldcup/blob/master/TP1_ML.ipynb\" target=\"_parent\"><img src=\"https://colab.research.google.com/assets/colab-badge.svg\" alt=\"Open In Colab\"/></a>"
      ]
    },
    {
      "cell_type": "code",
      "source": [
        "#importation des bibliothèques\n",
        "import pandas as pd\n",
        "import numpy as np\n",
        "from mlxtend.frequent_patterns import apriori\n",
        "from mlxtend.frequent_patterns import association_rules "
      ],
      "metadata": {
        "id": "tMs8EYKS7ef1"
      },
      "execution_count": null,
      "outputs": []
    },
    {
      "cell_type": "code",
      "source": [
        "#question 1\n",
        "#création du dataframe\n",
        "dataframe = pd.read_table(\"market_basket.txt\",delimiter=\"\\t\",header=0)\n",
        "print(dataframe)"
      ],
      "metadata": {
        "colab": {
          "base_uri": "https://localhost:8080/"
        },
        "id": "yUgfRM0VVskB",
        "outputId": "baa7924a-5ab7-40dd-dfb9-ceb647fcdbb1"
      },
      "execution_count": null,
      "outputs": [
        {
          "output_type": "stream",
          "name": "stdout",
          "text": [
            "         ID            Product\n",
            "0         1            Peaches\n",
            "1         2      Vegetable_Oil\n",
            "2         2        Frozen_Corn\n",
            "3         3              Plums\n",
            "4         4        Pancake_Mix\n",
            "...     ...                ...\n",
            "12930  1361     Hamburger_Buns\n",
            "12931  1361  Chicken_TV_Dinner\n",
            "12932  1361       Sweet_Relish\n",
            "12933  1361            Aspirin\n",
            "12934  1361     Sweet_Potatoes\n",
            "\n",
            "[12935 rows x 2 columns]\n"
          ]
        }
      ]
    },
    {
      "cell_type": "code",
      "source": [
        "#question 2\n",
        "#affichage des 10 premiers lignes\n",
        "print(dataframe.head(10))"
      ],
      "metadata": {
        "colab": {
          "base_uri": "https://localhost:8080/"
        },
        "id": "z_2sZ0Am7lke",
        "outputId": "b43dd335-52ee-498a-eda5-a67bbfe36a6f"
      },
      "execution_count": null,
      "outputs": [
        {
          "output_type": "stream",
          "name": "stdout",
          "text": [
            "   ID                   Product\n",
            "0   1                   Peaches\n",
            "1   2             Vegetable_Oil\n",
            "2   2               Frozen_Corn\n",
            "3   3                     Plums\n",
            "4   4               Pancake_Mix\n",
            "5   5                    Cheese\n",
            "6   6               Cauliflower\n",
            "7   7                 2pct_Milk\n",
            "8   8  98pct_Fat_Free_Hamburger\n",
            "9   8              Potato_Chips\n"
          ]
        }
      ]
    },
    {
      "cell_type": "code",
      "source": [
        "#question 3\n",
        "print(\"La dimension du dataframe est : \",dataframe.shape)"
      ],
      "metadata": {
        "colab": {
          "base_uri": "https://localhost:8080/"
        },
        "id": "36bRstjS7opX",
        "outputId": "a2b12a90-1010-481e-c207-c8f88a540e5f"
      },
      "execution_count": null,
      "outputs": [
        {
          "output_type": "stream",
          "name": "stdout",
          "text": [
            "La dimension du dataframe est :  (12935, 2)\n"
          ]
        }
      ]
    },
    {
      "cell_type": "code",
      "execution_count": null,
      "metadata": {
        "id": "l7XYZADpd91Y",
        "colab": {
          "base_uri": "https://localhost:8080/"
        },
        "outputId": "9b307b7b-3488-4bd1-cf7f-6aa16e333c61"
      },
      "outputs": [
        {
          "output_type": "stream",
          "name": "stdout",
          "text": [
            "      100_Watt_Lightbulb  2pct_Milk  40_Watt_Lightbulb  60_Watt_Lightbulb  \\\n",
            "1                    0.0        0.0                0.0                0.0   \n",
            "2                    0.0        0.0                0.0                0.0   \n",
            "3                    0.0        0.0                0.0                0.0   \n",
            "4                    0.0        0.0                0.0                0.0   \n",
            "5                    0.0        0.0                0.0                0.0   \n",
            "...                  ...        ...                ...                ...   \n",
            "1357                 0.0        0.0                0.0                0.0   \n",
            "1358                 0.0        0.0                0.0                0.0   \n",
            "1359                 0.0        1.0                1.0                1.0   \n",
            "1360                 1.0        0.0                0.0                1.0   \n",
            "1361                 0.0        0.0                0.0                0.0   \n",
            "\n",
            "      75_Watt_Lightbulb  98pct_Fat_Free_Hamburger  AA_Cell_Batteries  \\\n",
            "1                   0.0                       0.0                0.0   \n",
            "2                   0.0                       0.0                0.0   \n",
            "3                   0.0                       0.0                0.0   \n",
            "4                   0.0                       0.0                0.0   \n",
            "5                   0.0                       0.0                0.0   \n",
            "...                 ...                       ...                ...   \n",
            "1357                0.0                       0.0                0.0   \n",
            "1358                0.0                       0.0                0.0   \n",
            "1359                0.0                       1.0                0.0   \n",
            "1360                0.0                       1.0                1.0   \n",
            "1361                0.0                       1.0                0.0   \n",
            "\n",
            "      Apple_Cinnamon_Waffles  Apple_Drink  Apple_Fruit_Roll  ...  White_Bread  \\\n",
            "1                        0.0          0.0               0.0  ...          0.0   \n",
            "2                        0.0          0.0               0.0  ...          0.0   \n",
            "3                        0.0          0.0               0.0  ...          0.0   \n",
            "4                        0.0          0.0               0.0  ...          0.0   \n",
            "5                        0.0          0.0               0.0  ...          0.0   \n",
            "...                      ...          ...               ...  ...          ...   \n",
            "1357                     0.0          0.0               0.0  ...          0.0   \n",
            "1358                     0.0          0.0               0.0  ...          0.0   \n",
            "1359                     1.0          0.0               0.0  ...          1.0   \n",
            "1360                     1.0          1.0               0.0  ...          1.0   \n",
            "1361                     0.0          0.0               0.0  ...          0.0   \n",
            "\n",
            "      White_Wine  White_Zinfandel_Wine  Whole_Corn  Whole_Green_Beans  \\\n",
            "1            0.0                   0.0         0.0                0.0   \n",
            "2            0.0                   0.0         0.0                0.0   \n",
            "3            0.0                   0.0         0.0                0.0   \n",
            "4            0.0                   0.0         0.0                0.0   \n",
            "5            0.0                   0.0         0.0                0.0   \n",
            "...          ...                   ...         ...                ...   \n",
            "1357         1.0                   0.0         0.0                0.0   \n",
            "1358         0.0                   0.0         0.0                0.0   \n",
            "1359         0.0                   0.0         0.0                1.0   \n",
            "1360         0.0                   1.0         0.0                0.0   \n",
            "1361         0.0                   0.0         0.0                0.0   \n",
            "\n",
            "      Whole_Milk  Window_Cleaner  Wood_Polish  flav_Fruit_Bars  flav_Ice  \n",
            "1            0.0             0.0          0.0              0.0       0.0  \n",
            "2            0.0             0.0          0.0              0.0       0.0  \n",
            "3            0.0             0.0          0.0              0.0       0.0  \n",
            "4            0.0             0.0          0.0              0.0       0.0  \n",
            "5            0.0             0.0          0.0              0.0       0.0  \n",
            "...          ...             ...          ...              ...       ...  \n",
            "1357         0.0             0.0          0.0              0.0       0.0  \n",
            "1358         0.0             0.0          0.0              0.0       0.0  \n",
            "1359         0.0             0.0          0.0              1.0       0.0  \n",
            "1360         1.0             0.0          0.0              1.0       1.0  \n",
            "1361         0.0             0.0          0.0              0.0       0.0  \n",
            "\n",
            "[1360 rows x 303 columns]\n"
          ]
        }
      ],
      "source": [
        "#question 4\n",
        "#Script de construction du table binaire\n",
        "col=dataframe['Product'].sort_values().unique()\n",
        "lig=dataframe['ID'].unique()\n",
        "\n",
        "matrix=np.zeros((len(lig),len(col)))\n",
        "k=0\n",
        "for i in lig:\n",
        "  df=dataframe[dataframe[\"ID\"]==i]\n",
        "  a=0\n",
        "  for j in col:\n",
        "    if df['Product'].str.contains(j).any():\n",
        "      matrix[k][a]=1\n",
        "    a=a+1\n",
        "  k=k+1\n",
        "\n",
        "df = pd.DataFrame(matrix, index=lig,columns=col)\n",
        "df\n",
        "\n",
        "print(df.iloc[:,:])"
      ]
    },
    {
      "cell_type": "code",
      "source": [
        "#question 5\n",
        "TableBinaire= pd.crosstab(dataframe.ID,dataframe.Product)\n",
        "print(TableBinaire.iloc[:,:])"
      ],
      "metadata": {
        "colab": {
          "base_uri": "https://localhost:8080/"
        },
        "id": "he1EDMO7rntp",
        "outputId": "51b1352c-2cb3-4107-fb74-a11b12f8c36a"
      },
      "execution_count": null,
      "outputs": [
        {
          "output_type": "stream",
          "name": "stdout",
          "text": [
            "Product  100_Watt_Lightbulb  2pct_Milk  40_Watt_Lightbulb  60_Watt_Lightbulb  \\\n",
            "ID                                                                             \n",
            "1                         0          0                  0                  0   \n",
            "2                         0          0                  0                  0   \n",
            "3                         0          0                  0                  0   \n",
            "4                         0          0                  0                  0   \n",
            "5                         0          0                  0                  0   \n",
            "...                     ...        ...                ...                ...   \n",
            "1357                      0          0                  0                  0   \n",
            "1358                      0          0                  0                  0   \n",
            "1359                      0          1                  1                  1   \n",
            "1360                      1          0                  0                  1   \n",
            "1361                      0          0                  0                  0   \n",
            "\n",
            "Product  75_Watt_Lightbulb  98pct_Fat_Free_Hamburger  AA_Cell_Batteries  \\\n",
            "ID                                                                        \n",
            "1                        0                         0                  0   \n",
            "2                        0                         0                  0   \n",
            "3                        0                         0                  0   \n",
            "4                        0                         0                  0   \n",
            "5                        0                         0                  0   \n",
            "...                    ...                       ...                ...   \n",
            "1357                     0                         0                  0   \n",
            "1358                     0                         0                  0   \n",
            "1359                     0                         1                  0   \n",
            "1360                     0                         1                  1   \n",
            "1361                     0                         1                  0   \n",
            "\n",
            "Product  Apple_Cinnamon_Waffles  Apple_Drink  Apple_Fruit_Roll  ...  \\\n",
            "ID                                                              ...   \n",
            "1                             0            0                 0  ...   \n",
            "2                             0            0                 0  ...   \n",
            "3                             0            0                 0  ...   \n",
            "4                             0            0                 0  ...   \n",
            "5                             0            0                 0  ...   \n",
            "...                         ...          ...               ...  ...   \n",
            "1357                          0            0                 0  ...   \n",
            "1358                          0            0                 0  ...   \n",
            "1359                          1            0                 0  ...   \n",
            "1360                          1            1                 0  ...   \n",
            "1361                          0            0                 0  ...   \n",
            "\n",
            "Product  White_Bread  White_Wine  White_Zinfandel_Wine  Whole_Corn  \\\n",
            "ID                                                                   \n",
            "1                  0           0                     0           0   \n",
            "2                  0           0                     0           0   \n",
            "3                  0           0                     0           0   \n",
            "4                  0           0                     0           0   \n",
            "5                  0           0                     0           0   \n",
            "...              ...         ...                   ...         ...   \n",
            "1357               0           1                     0           0   \n",
            "1358               0           0                     0           0   \n",
            "1359               1           0                     0           0   \n",
            "1360               1           0                     1           0   \n",
            "1361               0           0                     0           0   \n",
            "\n",
            "Product  Whole_Green_Beans  Whole_Milk  Window_Cleaner  Wood_Polish  \\\n",
            "ID                                                                    \n",
            "1                        0           0               0            0   \n",
            "2                        0           0               0            0   \n",
            "3                        0           0               0            0   \n",
            "4                        0           0               0            0   \n",
            "5                        0           0               0            0   \n",
            "...                    ...         ...             ...          ...   \n",
            "1357                     0           0               0            0   \n",
            "1358                     0           0               0            0   \n",
            "1359                     1           0               0            0   \n",
            "1360                     0           1               0            0   \n",
            "1361                     0           0               0            0   \n",
            "\n",
            "Product  flav_Fruit_Bars  flav_Ice  \n",
            "ID                                  \n",
            "1                      0         0  \n",
            "2                      0         0  \n",
            "3                      0         0  \n",
            "4                      0         0  \n",
            "5                      0         0  \n",
            "...                  ...       ...  \n",
            "1357                   0         0  \n",
            "1358                   0         0  \n",
            "1359                   1         0  \n",
            "1360                   1         1  \n",
            "1361                   0         0  \n",
            "\n",
            "[1360 rows x 303 columns]\n"
          ]
        }
      ]
    },
    {
      "cell_type": "code",
      "source": [
        "#question 6\n",
        "print(TableBinaire.iloc[:30,:3])"
      ],
      "metadata": {
        "colab": {
          "base_uri": "https://localhost:8080/"
        },
        "id": "Tj6Q3WRo7o0f",
        "outputId": "be338074-4c60-4671-eecb-2c95e18eb069"
      },
      "execution_count": null,
      "outputs": [
        {
          "output_type": "stream",
          "name": "stdout",
          "text": [
            "Product  100_Watt_Lightbulb  2pct_Milk  40_Watt_Lightbulb\n",
            "ID                                                       \n",
            "1                         0          0                  0\n",
            "2                         0          0                  0\n",
            "3                         0          0                  0\n",
            "4                         0          0                  0\n",
            "5                         0          0                  0\n",
            "6                         0          0                  0\n",
            "7                         0          1                  0\n",
            "8                         0          0                  0\n",
            "9                         0          0                  0\n",
            "10                        0          0                  0\n",
            "11                        0          0                  0\n",
            "12                        0          0                  0\n",
            "13                        0          0                  0\n",
            "14                        0          0                  0\n",
            "15                        0          0                  0\n",
            "16                        0          0                  0\n",
            "17                        0          0                  0\n",
            "18                        0          0                  0\n",
            "19                        0          0                  0\n",
            "20                        0          0                  0\n",
            "21                        0          0                  0\n",
            "22                        0          0                  0\n",
            "23                        0          0                  0\n",
            "24                        0          0                  0\n",
            "25                        0          1                  0\n",
            "26                        1          0                  0\n",
            "27                        0          0                  0\n",
            "28                        0          1                  0\n",
            "29                        0          1                  0\n",
            "30                        0          0                  0\n"
          ]
        }
      ]
    },
    {
      "cell_type": "code",
      "source": [
        "#question 7\n",
        "itemsets_frequents = apriori(TableBinaire,min_support=0.025,max_len=4,use_colnames=True)\n",
        "#affichage des itemsets frequents\n",
        "print(itemsets_frequents)"
      ],
      "metadata": {
        "id": "D50HG-b67o6U",
        "colab": {
          "base_uri": "https://localhost:8080/"
        },
        "outputId": "936112ea-60e5-45d0-daad-953a9255722c"
      },
      "execution_count": null,
      "outputs": [
        {
          "output_type": "stream",
          "name": "stdout",
          "text": [
            "      support                                           itemsets\n",
            "0    0.030147                               (100_Watt_Lightbulb)\n",
            "1    0.109559                                        (2pct_Milk)\n",
            "2    0.037500                                (60_Watt_Lightbulb)\n",
            "3    0.031618                                (75_Watt_Lightbulb)\n",
            "4    0.093382                         (98pct_Fat_Free_Hamburger)\n",
            "..        ...                                                ...\n",
            "598  0.025735                (Toothpaste, Tomatoes, White_Bread)\n",
            "599  0.026471             (Toothpaste, White_Bread, Wheat_Bread)\n",
            "600  0.026471       (Eggs, 2pct_Milk, Potato_Chips, White_Bread)\n",
            "601  0.025735         (Eggs, 2pct_Milk, Toothpaste, White_Bread)\n",
            "602  0.025000  (2pct_Milk, Toothpaste, Potato_Chips, White_Br...\n",
            "\n",
            "[603 rows x 2 columns]\n"
          ]
        }
      ]
    },
    {
      "cell_type": "code",
      "source": [
        "#question 8\n",
        "#affichage des 15 premiers itemsets\n",
        "print(itemsets_frequents.head(15))"
      ],
      "metadata": {
        "id": "7xGkKKej7o_J",
        "colab": {
          "base_uri": "https://localhost:8080/"
        },
        "outputId": "615b927a-9c5b-48d9-9d74-cae3fd8e9632"
      },
      "execution_count": null,
      "outputs": [
        {
          "output_type": "stream",
          "name": "stdout",
          "text": [
            "     support                    itemsets\n",
            "0   0.030147        (100_Watt_Lightbulb)\n",
            "1   0.109559                 (2pct_Milk)\n",
            "2   0.037500         (60_Watt_Lightbulb)\n",
            "3   0.031618         (75_Watt_Lightbulb)\n",
            "4   0.093382  (98pct_Fat_Free_Hamburger)\n",
            "5   0.031618         (AA_Cell_Batteries)\n",
            "6   0.025735    (Apple_Cinnamon_Waffles)\n",
            "7   0.026471               (Apple_Drink)\n",
            "8   0.031618          (Apple_Fruit_Roll)\n",
            "9   0.032353                 (Apple_Jam)\n",
            "10  0.033088               (Apple_Jelly)\n",
            "11  0.032353               (Apple_Sauce)\n",
            "12  0.053676                    (Apples)\n",
            "13  0.066912                   (Aspirin)\n",
            "14  0.027941               (Avocado_Dip)\n"
          ]
        }
      ]
    },
    {
      "cell_type": "code",
      "source": [
        "#question 9\n",
        "#fonction is_inclus() \n",
        "def is_inclus(x,items):\n",
        "    return items.issubset(x)"
      ],
      "metadata": {
        "id": "9R2IzNdW7pEg"
      },
      "execution_count": null,
      "outputs": []
    },
    {
      "cell_type": "code",
      "source": [
        "#question 10\n",
        "#affichage des itemsets comprenant le produit ‘Aspirin’\n",
        "itemsets = np.where(itemsets_frequents.itemsets.apply(is_inclus,items={'Aspirin'}))\n",
        "print (itemsets_frequents.loc[itemsets])"
      ],
      "metadata": {
        "id": "WUd5L9pG7pK-",
        "colab": {
          "base_uri": "https://localhost:8080/"
        },
        "outputId": "003f4e39-2cc6-4ddc-ae70-4a366d436db0"
      },
      "execution_count": null,
      "outputs": [
        {
          "output_type": "stream",
          "name": "stdout",
          "text": [
            "      support                              itemsets\n",
            "13   0.066912                             (Aspirin)\n",
            "208  0.034559                  (2pct_Milk, Aspirin)\n",
            "249  0.027941   (98pct_Fat_Free_Hamburger, Aspirin)\n",
            "272  0.027206                       (Cola, Aspirin)\n",
            "273  0.025735              (Domestic_Beer, Aspirin)\n",
            "274  0.038235                       (Eggs, Aspirin)\n",
            "275  0.027206                   (Hot_Dogs, Aspirin)\n",
            "276  0.027206                     (Onions, Aspirin)\n",
            "277  0.027206   (Pepperoni_Pizza_-_Frozen, Aspirin)\n",
            "278  0.025000               (Popcorn_Salt, Aspirin)\n",
            "279  0.036029               (Potato_Chips, Aspirin)\n",
            "280  0.030147                   (Potatoes, Aspirin)\n",
            "281  0.030147               (Sweet_Relish, Aspirin)\n",
            "282  0.028676               (Toilet_Paper, Aspirin)\n",
            "283  0.025000                   (Tomatoes, Aspirin)\n",
            "284  0.030882                 (Toothpaste, Aspirin)\n",
            "285  0.025000                (Wheat_Bread, Aspirin)\n",
            "286  0.041912                (White_Bread, Aspirin)\n",
            "509  0.025735            (Eggs, 2pct_Milk, Aspirin)\n",
            "510  0.025000    (2pct_Milk, Potato_Chips, Aspirin)\n",
            "511  0.027206     (2pct_Milk, White_Bread, Aspirin)\n",
            "552  0.025000         (Eggs, Potato_Chips, Aspirin)\n",
            "553  0.029412          (Eggs, White_Bread, Aspirin)\n",
            "554  0.027206  (Potato_Chips, White_Bread, Aspirin)\n",
            "555  0.025000      (Potatoes, White_Bread, Aspirin)\n",
            "556  0.025735    (Toothpaste, White_Bread, Aspirin)\n"
          ]
        }
      ]
    },
    {
      "cell_type": "code",
      "source": [
        "#question 11\n",
        "#affichage des itemsets comprenant le produit ‘Aspirin’ et 'Eggs'\n",
        "itemsets = np.where(itemsets_frequents.itemsets.apply(is_inclus,items={'Aspirin','Eggs'}))\n",
        "print (itemsets_frequents.loc[itemsets])"
      ],
      "metadata": {
        "id": "qVHt_EjY8CaU",
        "colab": {
          "base_uri": "https://localhost:8080/"
        },
        "outputId": "a2fb8827-357d-4786-bbdf-2d1b6d416091"
      },
      "execution_count": null,
      "outputs": [
        {
          "output_type": "stream",
          "name": "stdout",
          "text": [
            "      support                       itemsets\n",
            "274  0.038235                (Eggs, Aspirin)\n",
            "509  0.025735     (Eggs, 2pct_Milk, Aspirin)\n",
            "552  0.025000  (Eggs, Potato_Chips, Aspirin)\n",
            "553  0.029412   (Eggs, White_Bread, Aspirin)\n"
          ]
        }
      ]
    },
    {
      "cell_type": "code",
      "source": [
        "#question 12\n",
        "#génération des règles à partir des itemsets fréquents\n",
        "regles = association_rules(itemsets_frequents,metric=\"confidence\",min_threshold=0.75)\n",
        "print(regles.shape)"
      ],
      "metadata": {
        "id": "laEWR2NJ8Cmz",
        "colab": {
          "base_uri": "https://localhost:8080/"
        },
        "outputId": "4e64dbe3-748c-46f0-9c62-bd3665033307"
      },
      "execution_count": null,
      "outputs": [
        {
          "output_type": "stream",
          "name": "stdout",
          "text": [
            "(50, 9)\n"
          ]
        }
      ]
    },
    {
      "cell_type": "code",
      "source": [
        "#question 13\n",
        "#affichage des 5 premières règles\n",
        "print(regles.head(5))"
      ],
      "metadata": {
        "id": "WndAdFts7eLp",
        "colab": {
          "base_uri": "https://localhost:8080/"
        },
        "outputId": "6f4a0073-eccc-4f10-f42a-bae283688dd8"
      },
      "execution_count": null,
      "outputs": [
        {
          "output_type": "stream",
          "name": "stdout",
          "text": [
            "                 antecedents    consequents  antecedent support  \\\n",
            "0       (2pct_Milk, Aspirin)  (White_Bread)            0.034559   \n",
            "1       (2pct_Milk, Bananas)  (White_Bread)            0.031618   \n",
            "2     (Bananas, White_Bread)    (2pct_Milk)            0.032353   \n",
            "3        (Cola, Wheat_Bread)    (2pct_Milk)            0.032353   \n",
            "4  (Popcorn_Salt, 2pct_Milk)         (Eggs)            0.033088   \n",
            "\n",
            "   consequent support   support  confidence      lift  leverage  conviction  \n",
            "0            0.119118  0.027206    0.787234  6.608878  0.023089    4.140147  \n",
            "1            0.119118  0.025735    0.813953  6.833190  0.021969    4.734743  \n",
            "2            0.109559  0.025735    0.795455  7.260525  0.022191    4.353268  \n",
            "3            0.109559  0.025735    0.795455  7.260525  0.022191    4.353268  \n",
            "4            0.122794  0.027206    0.822222  6.695941  0.023143    4.934283  \n"
          ]
        }
      ]
    },
    {
      "cell_type": "code",
      "source": [
        "#question 14\n",
        "#affichage des règles avec un LIFT supérieur ou égal à 7\n",
        "print(regles[regles['lift'].ge(7)])"
      ],
      "metadata": {
        "id": "w3Wpfr868PnD",
        "colab": {
          "base_uri": "https://localhost:8080/"
        },
        "outputId": "b9e203ee-2d05-4c13-8306-3b1f342813a5"
      },
      "execution_count": null,
      "outputs": [
        {
          "output_type": "stream",
          "name": "stdout",
          "text": [
            "                                antecedents                 consequents  \\\n",
            "2                    (Bananas, White_Bread)                 (2pct_Milk)   \n",
            "3                       (Cola, Wheat_Bread)                 (2pct_Milk)   \n",
            "8                     (Onions, Wheat_Bread)                 (2pct_Milk)   \n",
            "10                  (Potatoes, Wheat_Bread)                 (2pct_Milk)   \n",
            "13                (Toothpaste, Wheat_Bread)                 (2pct_Milk)   \n",
            "16            (Hamburger_Buns, White_Bread)  (98pct_Fat_Free_Hamburger)   \n",
            "17  (98pct_Fat_Free_Hamburger, Wheat_Bread)               (White_Bread)   \n",
            "29             (Sweet_Relish, Hot_Dog_Buns)                  (Hot_Dogs)   \n",
            "35                 (Toilet_Paper, Potatoes)               (White_Bread)   \n",
            "37               (Toothpaste, Toilet_Paper)               (White_Bread)   \n",
            "41        (Eggs, Potato_Chips, White_Bread)                 (2pct_Milk)   \n",
            "44          (Eggs, Toothpaste, White_Bread)                 (2pct_Milk)   \n",
            "46    (2pct_Milk, Toothpaste, Potato_Chips)               (White_Bread)   \n",
            "47     (2pct_Milk, Toothpaste, White_Bread)              (Potato_Chips)   \n",
            "48   (2pct_Milk, Potato_Chips, White_Bread)                (Toothpaste)   \n",
            "49  (Toothpaste, Potato_Chips, White_Bread)                 (2pct_Milk)   \n",
            "\n",
            "    antecedent support  consequent support   support  confidence      lift  \\\n",
            "2             0.032353            0.109559  0.025735    0.795455  7.260525   \n",
            "3             0.032353            0.109559  0.025735    0.795455  7.260525   \n",
            "8             0.034559            0.109559  0.028676    0.829787  7.573897   \n",
            "10            0.032353            0.109559  0.025000    0.772727  7.053081   \n",
            "13            0.034559            0.109559  0.027941    0.808511  7.379694   \n",
            "16            0.034559            0.093382  0.026471    0.765957  8.202379   \n",
            "17            0.029412            0.119118  0.026471    0.900000  7.555556   \n",
            "29            0.036029            0.092647  0.030147    0.836735  9.031422   \n",
            "35            0.028676            0.119118  0.025000    0.871795  7.318772   \n",
            "37            0.029412            0.119118  0.025735    0.875000  7.345679   \n",
            "41            0.033824            0.109559  0.026471    0.782609  7.143274   \n",
            "44            0.032353            0.109559  0.025735    0.795455  7.260525   \n",
            "46            0.028676            0.119118  0.025000    0.871795  7.318772   \n",
            "47            0.033088            0.097794  0.025000    0.755556  7.725982   \n",
            "48            0.033088            0.079412  0.025000    0.755556  9.514403   \n",
            "49            0.030147            0.109559  0.025000    0.829268  7.569160   \n",
            "\n",
            "    leverage  conviction  \n",
            "2   0.022191    4.353268  \n",
            "3   0.022191    4.353268  \n",
            "8   0.024890    5.231342  \n",
            "10  0.021455    3.917941  \n",
            "13  0.024155    4.650082  \n",
            "16  0.023243    3.873730  \n",
            "17  0.022967    8.808824  \n",
            "29  0.026809    5.557537  \n",
            "35  0.021584    6.870882  \n",
            "37  0.022232    7.047059  \n",
            "41  0.022765    4.096029  \n",
            "44  0.022191    4.353268  \n",
            "46  0.021584    6.870882  \n",
            "47  0.021764    3.690842  \n",
            "48  0.022372    3.766043  \n",
            "49  0.021697    5.215441  \n"
          ]
        }
      ]
    },
    {
      "cell_type": "code",
      "source": [
        "#question 15\n",
        "#affichage des règles menant au conséquent \"2pct_milk\"\n",
        "print(regles[regles['consequents'].ge({'2pct_Milk'})])"
      ],
      "metadata": {
        "id": "HqqiojNJ8SkR",
        "colab": {
          "base_uri": "https://localhost:8080/"
        },
        "outputId": "995d3a98-0883-4809-c8d0-b28b575dd32c"
      },
      "execution_count": null,
      "outputs": [
        {
          "output_type": "stream",
          "name": "stdout",
          "text": [
            "                                antecedents  consequents  antecedent support  \\\n",
            "2                    (Bananas, White_Bread)  (2pct_Milk)            0.032353   \n",
            "3                       (Cola, Wheat_Bread)  (2pct_Milk)            0.032353   \n",
            "7                       (Eggs, Wheat_Bread)  (2pct_Milk)            0.040441   \n",
            "8                     (Onions, Wheat_Bread)  (2pct_Milk)            0.034559   \n",
            "9                (Toothpaste, Potato_Chips)  (2pct_Milk)            0.037500   \n",
            "10                  (Potatoes, Wheat_Bread)  (2pct_Milk)            0.032353   \n",
            "13                (Toothpaste, Wheat_Bread)  (2pct_Milk)            0.034559   \n",
            "41        (Eggs, Potato_Chips, White_Bread)  (2pct_Milk)            0.033824   \n",
            "44          (Eggs, Toothpaste, White_Bread)  (2pct_Milk)            0.032353   \n",
            "49  (Toothpaste, Potato_Chips, White_Bread)  (2pct_Milk)            0.030147   \n",
            "\n",
            "    consequent support   support  confidence      lift  leverage  conviction  \n",
            "2             0.109559  0.025735    0.795455  7.260525  0.022191    4.353268  \n",
            "3             0.109559  0.025735    0.795455  7.260525  0.022191    4.353268  \n",
            "7             0.109559  0.030882    0.763636  6.970104  0.026452    3.767251  \n",
            "8             0.109559  0.028676    0.829787  7.573897  0.024890    5.231342  \n",
            "9             0.109559  0.028676    0.764706  6.979866  0.024568    3.784375  \n",
            "10            0.109559  0.025000    0.772727  7.053081  0.021455    3.917941  \n",
            "13            0.109559  0.027941    0.808511  7.379694  0.024155    4.650082  \n",
            "41            0.109559  0.026471    0.782609  7.143274  0.022765    4.096029  \n",
            "44            0.109559  0.025735    0.795455  7.260525  0.022191    4.353268  \n",
            "49            0.109559  0.025000    0.829268  7.569160  0.021697    5.215441  \n"
          ]
        }
      ]
    }
  ]
}